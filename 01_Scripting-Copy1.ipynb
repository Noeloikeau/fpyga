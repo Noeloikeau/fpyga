{
 "cells": [
  {
   "cell_type": "code",
   "execution_count": null,
   "id": "coastal-surrey",
   "metadata": {},
   "outputs": [],
   "source": [
    "# default_exp scripting"
   ]
  },
  {
   "cell_type": "markdown",
   "id": "basic-entity",
   "metadata": {},
   "source": [
    "# Scripting\n",
    "> Automatically detect hardware and devices like FPGAs and SoCs, read/write to memory, program, compile, archive projects, generate LUT masks, perform timing analyses, and more."
   ]
  },
  {
   "cell_type": "code",
   "execution_count": null,
   "id": "middle-guest",
   "metadata": {},
   "outputs": [],
   "source": [
    "#hide\n",
    "from nbdev import *\n",
    "from nbdev.imports import *\n",
    "from nbdev.export import *\n",
    "from nbdev.sync import *\n",
    "from nbdev.showdoc import *"
   ]
  },
  {
   "cell_type": "code",
   "execution_count": null,
   "id": "confident-charity",
   "metadata": {},
   "outputs": [],
   "source": [
    "#hide\n",
    "%load_ext autoreload\n",
    "%autoreload 2"
   ]
  },
  {
   "cell_type": "code",
   "execution_count": null,
   "id": "prime-dealer",
   "metadata": {},
   "outputs": [],
   "source": [
    "#export\n",
    "import warnings\n",
    "with warnings.catch_warnings(): #ignore warnings\n",
    "    warnings.simplefilter(\"ignore\")\n",
    "    import sidis\n",
    "    import mif\n",
    "    import quartustcl\n",
    "    import numpy as np\n",
    "    import os\n",
    "    from typing import Optional, Tuple, Dict, Callable, Union\n",
    "    import functools\n",
    "    from functools import wraps"
   ]
  },
  {
   "cell_type": "markdown",
   "id": "built-planner",
   "metadata": {},
   "source": [
    "## Quartus Shell and Device Detection"
   ]
  },
  {
   "cell_type": "code",
   "execution_count": null,
   "id": "persistent-holocaust",
   "metadata": {},
   "outputs": [],
   "source": [
    "#export\n",
    "def qshell(func):\n",
    "    '''Function decorator that opens quartustcl shell if none open.'''\n",
    "    @wraps(func)\n",
    "    def wrap(q=None,*args,**kwargs):\n",
    "        if q is None:\n",
    "            with quartustcl.QuartusTcl() as q:\n",
    "                result = func(q,*args,**kwargs)\n",
    "        else:\n",
    "            result = func(q,*args,**kwargs)\n",
    "        return result\n",
    "    return wrap"
   ]
  },
  {
   "cell_type": "code",
   "execution_count": null,
   "id": "cheap-welding",
   "metadata": {},
   "outputs": [
    {
     "data": {
      "text/markdown": [
       "<h4 id=\"qshell\" class=\"doc_header\"><code>qshell</code><a href=\"__main__.py#L2\" class=\"source_link\" style=\"float:right\">[source]</a></h4>\n",
       "\n",
       "> <code>qshell</code>(**`func`**)\n",
       "\n",
       "Function decorator that opens quartustcl shell if none open."
      ],
      "text/plain": [
       "<IPython.core.display.Markdown object>"
      ]
     },
     "metadata": {},
     "output_type": "display_data"
    }
   ],
   "source": [
    "show_doc(qshell)"
   ]
  },
  {
   "cell_type": "markdown",
   "id": "foreign-hamburg",
   "metadata": {},
   "source": [
    "For the following I will use two DE-10 Nano SoC FPGAs attached via USB. Note that function wrappers disrupt the automatically generated doc strings created by nbdev. As such, we will show the source code for details."
   ]
  },
  {
   "cell_type": "code",
   "execution_count": null,
   "id": "hindu-mount",
   "metadata": {},
   "outputs": [],
   "source": [
    "#export\n",
    "@qshell\n",
    "def get_fpgas(q : Optional[quartustcl.QuartusTcl] = None,\n",
    "             parse : bool = False):            \n",
    "    '''\n",
    "    Get all connected FPGAs and SOCs as lists of hardware names `hwnames` and device names `devnames`.\n",
    "    Uses `q` shell if given, otherwise opens new shell. If `parse`, extracts only the FPGA, ignoring SoCs.\n",
    "    Returns a dict keyed by hardware port (e.g USB) and valued with devices (e.g FPGA/SOC).\n",
    "    '''\n",
    "    hwnames = q.parse(q.get_hardware_names())\n",
    "    devnames = [q.parse(q.get_device_names(hardware_name=h)) for h in hwnames]\n",
    "    if parse:\n",
    "        devnames=[d[-1] for d in devnames] #SoC is always first, if it exists\n",
    "    return dict(list(zip(hwnames,devnames)))"
   ]
  },
  {
   "cell_type": "code",
   "execution_count": null,
   "id": "express-abraham",
   "metadata": {},
   "outputs": [
    {
     "data": {
      "text/plain": [
       "{'DE-SoC [USB-1]': ['@1: SOCVHPS (0x4BA00477)',\n",
       "  '@2: 5CSEBA6(.|ES)/5CSEMA6/.. (0x02D020DD)'],\n",
       " 'DE-SoC [USB-2]': ['@1: SOCVHPS (0x4BA00477)',\n",
       "  '@2: 5CSEBA6(.|ES)/5CSEMA6/.. (0x02D020DD)']}"
      ]
     },
     "execution_count": null,
     "metadata": {},
     "output_type": "execute_result"
    }
   ],
   "source": [
    "get_fpgas()"
   ]
  },
  {
   "cell_type": "code",
   "execution_count": null,
   "id": "narrative-measure",
   "metadata": {},
   "outputs": [
    {
     "data": {
      "text/plain": [
       "{'DE-SoC [USB-1]': '@2: 5CSEBA6(.|ES)/5CSEMA6/.. (0x02D020DD)',\n",
       " 'DE-SoC [USB-2]': '@2: 5CSEBA6(.|ES)/5CSEMA6/.. (0x02D020DD)'}"
      ]
     },
     "execution_count": null,
     "metadata": {},
     "output_type": "execute_result"
    }
   ],
   "source": [
    "get_fpgas(parse=True) #strip the SoC"
   ]
  },
  {
   "cell_type": "code",
   "execution_count": null,
   "id": "blessed-accreditation",
   "metadata": {},
   "outputs": [],
   "source": [
    "#export\n",
    "@qshell\n",
    "def get_insts(q = None,\n",
    "              N_levels=2,\n",
    "              hwnames=None,\n",
    "              devnames=None):\n",
    "    '''\n",
    "    Get all memory instances from `hwname` and `devname`. See `QuartusTcl` doc for `N_levels`.\n",
    "    '''\n",
    "    if hwnames is None or devnames is None:\n",
    "        device_dict=get_fpgas(parse=True)\n",
    "        hwnames=list(device_dict.keys())\n",
    "        devnames=list(device_dict.values())\n",
    "    'Finds instance index given a name `inst_name` (string).'\n",
    "    memories={}\n",
    "    for hwname,devname in zip(hwnames,devnames):\n",
    "        memories_raw = q.get_editable_mem_instances(hardware_name=hwname,\\\n",
    "            device_name=devname)\n",
    "        memories[hwname]=q.parse(memories_raw, levels=N_levels)\n",
    "    return memories"
   ]
  },
  {
   "cell_type": "code",
   "execution_count": null,
   "id": "residential-bullet",
   "metadata": {},
   "outputs": [
    {
     "data": {
      "text/plain": [
       "{'DE-SoC [USB-1]': [['0', '1', '1', 'RW', 'ROM/RAM', 'BIT'],\n",
       "  ['1', '1', '3', 'RW', 'ROM/RAM', 'MULT'],\n",
       "  ['2', '512', '1300', 'RW', 'ROM/RAM', 'READ'],\n",
       "  ['3', '512', '1300', 'RW', 'ROM/RAM', 'READ'],\n",
       "  ['4', '512', '1300', 'RW', 'ROM/RAM', 'READ']],\n",
       " 'DE-SoC [USB-2]': [['0', '1', '1', 'RW', 'ROM/RAM', 'BIT'],\n",
       "  ['1', '1', '3', 'RW', 'ROM/RAM', 'MULT'],\n",
       "  ['2', '512', '1300', 'RW', 'ROM/RAM', 'READ'],\n",
       "  ['3', '512', '1300', 'RW', 'ROM/RAM', 'READ'],\n",
       "  ['4', '512', '1300', 'RW', 'ROM/RAM', 'READ']]}"
      ]
     },
     "execution_count": null,
     "metadata": {},
     "output_type": "execute_result"
    }
   ],
   "source": [
    "get_insts()"
   ]
  },
  {
   "cell_type": "markdown",
   "id": "humanitarian-pasta",
   "metadata": {},
   "source": [
    "The dict is keyed by port, and valued by a list of lists. Each sublist gives a memory address. The first entry is the memory index, the second is the number of words, the third is the size of each word, the fourth is the RW behavior, the 5th is the type of memory, and the last is the name of the memory module."
   ]
  },
  {
   "cell_type": "code",
   "execution_count": null,
   "id": "living-charles",
   "metadata": {},
   "outputs": [],
   "source": [
    "#export\n",
    "def begin_mem(q = None,\n",
    "          hw='DE-SoC [USB-1]',\n",
    "          dev='@2: 5CSEBA6(.|ES)/5CSEMA6/.. (0x02D020DD)'):\n",
    "    '''\n",
    "    Open a memory edit. If one is already open, pass. \n",
    "    '''\n",
    "    try:\n",
    "        q.begin_memory_edit(hardware_name=hw, device_name=dev)\n",
    "    except:\n",
    "        pass\n",
    "\n",
    "def end_mem(q = None):\n",
    "    '''\n",
    "    End a memory edit. If there are none open, pass.\n",
    "    '''\n",
    "    try:\n",
    "        q.end_memory_edit()\n",
    "    except:\n",
    "        pass"
   ]
  },
  {
   "cell_type": "markdown",
   "id": "little-comparison",
   "metadata": {},
   "source": [
    "## Reading / writing to memory"
   ]
  },
  {
   "cell_type": "code",
   "execution_count": null,
   "id": "military-slovak",
   "metadata": {},
   "outputs": [],
   "source": [
    "#export\n",
    "@qshell\n",
    "def read(q=None,\n",
    "         inst=0,\n",
    "         hw='DE-SoC [USB-1]',\n",
    "         dev='@2: 5CSEBA6(.|ES)/5CSEMA6/.. (0x02D020DD)',\n",
    "         begin=True,\n",
    "         end=True,\n",
    "         fname=None,\n",
    "         delete_mif=True):\n",
    "    '''Reads memory from an instance `inst` into an array `data`.\n",
    "    Option `delete_mif` will delete temporary .mif file if set to `True`.'''\n",
    "    if begin:\n",
    "        begin_mem(q,hw=hw,dev=dev)\n",
    "    fname=fname or 'read_inst{0}'.format(inst)\n",
    "    q.save_content_from_memory_to_file(\n",
    "        instance_index=inst,\n",
    "        mem_file_path=fname,\n",
    "        mem_file_type='mif')\n",
    "    with open(fname, 'r') as f:\n",
    "        data = mif.load(f)\n",
    "        f.close()\n",
    "    if delete_mif:\n",
    "        os.remove(fname)\n",
    "    if end:\n",
    "        end_mem(q)\n",
    "    return np.array(data).astype(float).astype(int)"
   ]
  },
  {
   "cell_type": "code",
   "execution_count": null,
   "id": "spanish-checklist",
   "metadata": {},
   "outputs": [
    {
     "data": {
      "text/plain": [
       "array([[0, 0, 0]])"
      ]
     },
     "execution_count": null,
     "metadata": {},
     "output_type": "execute_result"
    }
   ],
   "source": [
    "read(inst=1,hw='DE-SoC [USB-1]',dev='@2: 5CSEBA6(.|ES)/5CSEMA6/.. (0x02D020DD)')"
   ]
  },
  {
   "cell_type": "code",
   "execution_count": null,
   "id": "outdoor-devil",
   "metadata": {},
   "outputs": [],
   "source": [
    "#export\n",
    "def format_mem(data,bits=None):\n",
    "    '''\n",
    "    Format input data to nested array required for memory\n",
    "    '''\n",
    "    if (type(data) is int) or (type(data) is float):\n",
    "        data=sidis.num2ar(data,bits=bits)\n",
    "    data=np.array(data).astype(int)\n",
    "    if len(data.shape)==1: #if not matrix, convert for tcl\n",
    "        data=np.expand_dims(data,axis=0)\n",
    "    return data"
   ]
  },
  {
   "cell_type": "code",
   "execution_count": null,
   "id": "dimensional-irish",
   "metadata": {},
   "outputs": [
    {
     "data": {
      "text/plain": [
       "array([[0]])"
      ]
     },
     "execution_count": null,
     "metadata": {},
     "output_type": "execute_result"
    }
   ],
   "source": [
    "format_mem(0)"
   ]
  },
  {
   "cell_type": "code",
   "execution_count": null,
   "id": "superb-naples",
   "metadata": {},
   "outputs": [
    {
     "data": {
      "text/plain": [
       "array([[1, 0, 1, 0]])"
      ]
     },
     "execution_count": null,
     "metadata": {},
     "output_type": "execute_result"
    }
   ],
   "source": [
    "format_mem(10)"
   ]
  },
  {
   "cell_type": "code",
   "execution_count": null,
   "id": "bronze-nitrogen",
   "metadata": {},
   "outputs": [
    {
     "data": {
      "text/plain": [
       "array([[0, 1, 2]])"
      ]
     },
     "execution_count": null,
     "metadata": {},
     "output_type": "execute_result"
    }
   ],
   "source": [
    "format_mem([0,1,2])"
   ]
  },
  {
   "cell_type": "code",
   "execution_count": null,
   "id": "collected-tender",
   "metadata": {},
   "outputs": [],
   "source": [
    "#export\n",
    "@qshell\n",
    "def write(q=None,\n",
    "          inst=0,\n",
    "          data=1,\n",
    "          hw='DE-SoC [USB-1]',\n",
    "          dev='@2: 5CSEBA6(.|ES)/5CSEMA6/.. (0x02D020DD)',\n",
    "          bits=None,\n",
    "          begin=True,\n",
    "          end=True,\n",
    "          fname=None,\n",
    "          delete_mif=True):\n",
    "    '''Writes `data` array to memory instance `inst`.\n",
    "    Option `delete_mif` will delete temporary .mif file if set to `True`.'''\n",
    "    data = format_mem(data=data,bits=bits)\n",
    "    fname=fname or 'write_inst{0}'.format(inst)\n",
    "    if begin:\n",
    "        begin_mem(q,hw,dev)\n",
    "    with open(fname, 'w') as f:\n",
    "        mif.dump(data, f)\n",
    "        f.close()\n",
    "    q.update_content_to_memory_from_file(\n",
    "        instance_index=inst,\n",
    "        mem_file_path=fname,\n",
    "        mem_file_type='mif')\n",
    "    if end:\n",
    "        end_mem(q)\n",
    "    if delete_mif:\n",
    "        os.remove(fname)"
   ]
  },
  {
   "cell_type": "code",
   "execution_count": null,
   "id": "british-subdivision",
   "metadata": {},
   "outputs": [
    {
     "data": {
      "text/plain": [
       "array([[1, 0, 1]])"
      ]
     },
     "execution_count": null,
     "metadata": {},
     "output_type": "execute_result"
    }
   ],
   "source": [
    "write(inst=1,data=[1,0,1])\n",
    "read(inst=1)"
   ]
  },
  {
   "cell_type": "code",
   "execution_count": null,
   "id": "political-syndication",
   "metadata": {},
   "outputs": [],
   "source": [
    "#export\n",
    "@qshell\n",
    "def read_write(q=None,\n",
    "              args=[[0,'w',1,1],[0,'r']],\n",
    "              hw='DE-SoC [USB-1]',\n",
    "              dev='@2: 5CSEBA6(.|ES)/5CSEMA6/.. (0x02D020DD)',\n",
    "              reps=1,\n",
    "              begin=True,\n",
    "              end=True):\n",
    "    '''\n",
    "    Read/write using `args`, a list of lists/tuples each of the form\n",
    "    (instance index, 'r' or 'w', data to write if 'w', bits to use if 'w').\n",
    "    Can repeat operation up to `reps`.\n",
    "    '''\n",
    "\n",
    "    data=[[] for i in range(reps)]\n",
    "    if begin:\n",
    "        begin_mem(q=q,hw=hw,dev=dev)\n",
    "    for i in range(reps):\n",
    "        for tup in args:\n",
    "            inst=tup[0]\n",
    "            if tup[1]=='r':\n",
    "                data[i]+=[read(q=q,inst=inst,hw=hw,dev=dev,begin=False,end=False)]\n",
    "            elif tup[1]=='w':\n",
    "                x=tup[2]\n",
    "                if len(tup)==3:\n",
    "                    b=None\n",
    "                else:\n",
    "                    b=tup[3]\n",
    "                x=format_mem(data=x,bits=b)\n",
    "                write(q=q,inst=inst,data=x,hw=hw,dev=dev,begin=False,end=False)\n",
    "    if end:\n",
    "        end_mem(q)\n",
    "    if data!=[]:\n",
    "        data=np.squeeze(data).astype(int)\n",
    "        if np.shape(data)==():\n",
    "            data=np.array([data])\n",
    "        return data"
   ]
  },
  {
   "cell_type": "code",
   "execution_count": null,
   "id": "featured-alias",
   "metadata": {},
   "outputs": [
    {
     "data": {
      "text/plain": [
       "array([0, 0, 0])"
      ]
     },
     "execution_count": null,
     "metadata": {},
     "output_type": "execute_result"
    }
   ],
   "source": [
    "read_write(args=[(1,'w',0,3),(1,'r')])"
   ]
  },
  {
   "cell_type": "code",
   "execution_count": null,
   "id": "romantic-pixel",
   "metadata": {},
   "outputs": [
    {
     "data": {
      "text/plain": [
       "array([1, 1, 1])"
      ]
     },
     "execution_count": null,
     "metadata": {},
     "output_type": "execute_result"
    }
   ],
   "source": [
    "read_write(args=[(1,'w',[1,1,1]),(1,'r')])"
   ]
  },
  {
   "cell_type": "code",
   "execution_count": null,
   "id": "liquid-florist",
   "metadata": {},
   "outputs": [
    {
     "data": {
      "text/plain": [
       "array([[1, 1, 1],\n",
       "       [1, 1, 1]])"
      ]
     },
     "execution_count": null,
     "metadata": {},
     "output_type": "execute_result"
    }
   ],
   "source": [
    "read_write(args=[(1,'w',[1,1,1]),(1,'r')],reps=2)"
   ]
  },
  {
   "cell_type": "code",
   "execution_count": null,
   "id": "configured-april",
   "metadata": {},
   "outputs": [
    {
     "data": {
      "text/plain": [
       "array([[1, 1, 1],\n",
       "       [0, 0, 0]])"
      ]
     },
     "execution_count": null,
     "metadata": {},
     "output_type": "execute_result"
    }
   ],
   "source": [
    "read_write(args=[(1,'w',[1,1,1]),(1,'r'),(1,'w',0,3),(1,'r')])"
   ]
  },
  {
   "cell_type": "code",
   "execution_count": null,
   "id": "angry-spank",
   "metadata": {},
   "outputs": [],
   "source": [
    "#export\n",
    "@qshell\n",
    "def read_write_all(q=None,\n",
    "                 args=[[0,'w',1,1],[0,'r']],\n",
    "                 fpgas=[['DE-SoC [USB-1]','@2: 5CSEBA6(.|ES)/5CSEMA6/.. (0x02D020DD)']],\n",
    "                 reps=1,\n",
    "                 begin=False,\n",
    "                 end=False):\n",
    "    data=[[] for i in range(len(fpgas))]\n",
    "    for i,(hw,dev) in enumerate(fpgas):\n",
    "        data[i]=read_write(q=q,args=args,hw=hw,dev=dev,reps=reps,begin=begin,end=end)\n",
    "    if data!=[]:\n",
    "        data=np.array(data).astype(int)\n",
    "        return data"
   ]
  },
  {
   "cell_type": "code",
   "execution_count": null,
   "id": "unavailable-fundamental",
   "metadata": {},
   "outputs": [
    {
     "data": {
      "text/plain": [
       "array([[[1, 1, 1],\n",
       "        [0, 0, 0]],\n",
       "\n",
       "       [[1, 1, 1],\n",
       "        [0, 0, 0]]])"
      ]
     },
     "execution_count": null,
     "metadata": {},
     "output_type": "execute_result"
    }
   ],
   "source": [
    "read_write_all(fpgas=[('DE-SoC [USB-1]','@2: 5CSEBA6(.|ES)/5CSEMA6/.. (0x02D020DD)'),\n",
    "                     ('DE-SoC [USB-2]','@2: 5CSEBA6(.|ES)/5CSEMA6/.. (0x02D020DD)')],\n",
    "              args=[(1,'w',[1,1,1]),(1,'r'),(1,'w',0,3),(1,'r')])"
   ]
  },
  {
   "cell_type": "markdown",
   "id": "tough-action",
   "metadata": {},
   "source": [
    "## Programming, compiling, archiving"
   ]
  },
  {
   "cell_type": "code",
   "execution_count": null,
   "id": "baking-member",
   "metadata": {},
   "outputs": [],
   "source": [
    "#export\n",
    "def program_proj(projectname,hw=None,path='output_files'):\n",
    "    \"Program a single FPGA using a .cdf file.\"\n",
    "    if hw is None:\n",
    "        try:\n",
    "            os.system(r'quartus_pgm output_files/{0}.cdf'.format(projectname))\n",
    "        except FileNotFoundError:\n",
    "            print(\"Use Quartus Programmer GUI to generate cdf file first.\")\n",
    "    else:\n",
    "        filename=projectname+'.cdf'\n",
    "        filename=path+'\\\\'+filename\n",
    "        hdwname='\\\"'+hw+'\\\"'\n",
    "        os.system(r'quartus_pgm -c {0} {1}'.format(hdwname,filename))"
   ]
  },
  {
   "cell_type": "code",
   "execution_count": null,
   "id": "bound-company",
   "metadata": {},
   "outputs": [],
   "source": [
    "#export\n",
    "def compile_proj(projectname):\n",
    "    'Compiles `Quartus` project `projectname`.'\n",
    "    os.system('quartus_sh --flow compile '+projectname)"
   ]
  },
  {
   "cell_type": "code",
   "execution_count": null,
   "id": "maritime-gibraltar",
   "metadata": {},
   "outputs": [],
   "source": [
    "#export\n",
    "def archive_proj(projectname,filename,path=''):\n",
    "    \"Generates a `projectname-date.qar` file which Quartus can use to restore all project files.\"\n",
    "    os.system('quartus_sh --archive {pr} -use_file_set sr -output \"{pa}{fn}.qar\" {pr}'.format(pr=projectname,\n",
    "                                                                                       fn=filename,\n",
    "                                                                                       pa=path))"
   ]
  },
  {
   "cell_type": "markdown",
   "id": "prescribed-biography",
   "metadata": {},
   "source": [
    "## Location and routing annotation and QSF file appending"
   ]
  },
  {
   "cell_type": "code",
   "execution_count": null,
   "id": "popular-april",
   "metadata": {},
   "outputs": [],
   "source": [
    "#export\n",
    "def back_annotate(projectname,routing=True,logic=True):\n",
    "    '''\n",
    "    Writes all routing and logic to the qsf file.\n",
    "    '''\n",
    "    if logic:\n",
    "        os.system(f'quartus_cdb {projectname} --back_annotate=lc')\n",
    "    if routing:\n",
    "        os.system(f'quartus_cdb {projectname} --back_annotate=routing')"
   ]
  },
  {
   "cell_type": "code",
   "execution_count": null,
   "id": "silver-chapel",
   "metadata": {},
   "outputs": [],
   "source": [
    "#export\n",
    "def write_qsf(txt='',style='w',projectname='DE10',sourcename='qsf_source.qsf',set_source=False):\n",
    "    '''Writes assignments `txt` to `sourcename` and includes them in `projectname`.qsf.'''\n",
    "    with open(sourcename,style) as file:\n",
    "        file.writelines(txt)\n",
    "    if set_source: #making sure command to source is in qsf\n",
    "        with open(projectname+'.qsf','r') as file:\n",
    "            lines=file.readlines()\n",
    "        if 'source {}'.format(sourcename) not in lines:\n",
    "            with open(projectname+'.qsf','a') as file:\n",
    "                file.write(\"\\n\")\n",
    "                file.write('source {}'.format(sourcename))\n",
    "                file.write(\"\\n\")"
   ]
  },
  {
   "cell_type": "markdown",
   "id": "cleared-liverpool",
   "metadata": {},
   "source": [
    "## LUT Masks"
   ]
  },
  {
   "cell_type": "code",
   "execution_count": null,
   "id": "frank-intranet",
   "metadata": {},
   "outputs": [],
   "source": [
    "#export\n",
    "def lut_mask(lut=lambda s:1 if np.sum(s)>=2 else 0, N=4): #majority vote\n",
    "    '''\n",
    "    Quartus LUT mask for primitive logic cell, takes function to input and returns hex encoding\n",
    "    in:\n",
    "        lut (callable or list or numpy.array or dict) : function mapping over the port entry. \n",
    "        N (int) : number of ports. for standard 4-input LUT, 0=d, 1=c, 2=b, 3=a\n",
    "    out:\n",
    "        mask (str) : hex string encoding of the given mask\n",
    "    '''\n",
    "    mask=np.zeros(2**N)\n",
    "    for i,s in enumerate(np.ndindex(tuple([2 for i in range(N)]))):\n",
    "        if callable(lut):\n",
    "            mask[i]=lut(s)\n",
    "        else:\n",
    "            mask[i]=lut[s]\n",
    "    mask=sidis.ar2hex(mask)\n",
    "    return mask"
   ]
  },
  {
   "cell_type": "code",
   "execution_count": null,
   "id": "modular-sleeve",
   "metadata": {},
   "outputs": [
    {
     "data": {
      "text/plain": [
       "'0x00ff'"
      ]
     },
     "execution_count": null,
     "metadata": {},
     "output_type": "execute_result"
    }
   ],
   "source": [
    "lut_mask(lambda s:1 if s[0]==1 else 0)"
   ]
  },
  {
   "cell_type": "markdown",
   "id": "requested-standard",
   "metadata": {},
   "source": [
    "## Timing analysis"
   ]
  },
  {
   "cell_type": "code",
   "execution_count": null,
   "id": "dominant-reproduction",
   "metadata": {},
   "outputs": [],
   "source": [
    "#export\n",
    "def analyze_timing(projectname,\n",
    "           _from = '[get_clocks {MyClock}]',\n",
    "           _to = '[get_cells {MyCell}]',\n",
    "           detail='summary', #or 'full_path'\n",
    "           filename='timing.txt',\n",
    "           npaths = 1\n",
    "          ):\n",
    "    '''\n",
    "    Runs the timing analyzer, getting path information from `_from` to `_to`.\n",
    "    Gives `detail` (summary or full_path) on `npaths` and generates `filename`.\n",
    "    Returns text of that file.\n",
    "    '''\n",
    "    cmd=f'report_timing -from {_from} -to {_to} -setup \\\n",
    "        -npaths {npaths} -detail {detail} -panel_name {{Report Timing}} -multi_corner -file {filename}'\n",
    "    with open(filename,'w') as f: #generate intermediary tcl file\n",
    "            f.write(cmd)\n",
    "    os.system(f'quartus_sta --report_script={filename} {projectname}')\n",
    "    with open(filename,'r') as f: #write over intermediate file with above command then read it\n",
    "            txt=f.readlines()\n",
    "    return txt"
   ]
  },
  {
   "cell_type": "code",
   "execution_count": null,
   "id": "elect-promotion",
   "metadata": {},
   "outputs": [
    {
     "name": "stderr",
     "output_type": "stream",
     "text": [
      "C:\\Anaconda3\\lib\\site-packages\\numpy\\_distributor_init.py:32: UserWarning: loaded more than 1 DLL from .libs:\n",
      "C:\\Anaconda3\\lib\\site-packages\\numpy\\.libs\\libopenblas.NOIJJG62EMASZI6NYURL6JBKM4EVBGM7.gfortran-win_amd64.dll\n",
      "C:\\Anaconda3\\lib\\site-packages\\numpy\\.libs\\libopenblas.PYQHXLVVQ7VESDPUVUADXEVJOBGHJPAY.gfortran-win_amd64.dll\n",
      "  stacklevel=1)\n"
     ]
    }
   ],
   "source": [
    "hide\n",
    "sidis.refresh()"
   ]
  },
  {
   "cell_type": "code",
   "execution_count": null,
   "id": "defined-humidity",
   "metadata": {},
   "outputs": [],
   "source": []
  }
 ],
 "metadata": {
  "kernelspec": {
   "display_name": "Python 3",
   "language": "python",
   "name": "python3"
  }
 },
 "nbformat": 4,
 "nbformat_minor": 5
}
