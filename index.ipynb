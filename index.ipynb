{
 "cells": [
  {
   "cell_type": "code",
   "execution_count": null,
   "metadata": {},
   "outputs": [],
   "source": [
    "#hide\n",
    "from nbdev import *\n",
    "from nbdev.showdoc import *\n",
    "from nbdev.export import notebook2script"
   ]
  },
  {
   "cell_type": "code",
   "execution_count": null,
   "metadata": {},
   "outputs": [],
   "source": [
    "#hide\n",
    "from fpyga.all import *"
   ]
  },
  {
   "cell_type": "markdown",
   "metadata": {},
   "source": [
    "# Introduction\n",
    "> The `fpyga` Python package simplifies workflow with Intel FPGAs. It can automatically generate verilog, control location assignments, compile, program, read/write to memory, handle multiple FPGAs connected simultaneously, and archive projects all from within Python or Jupyter notebooks. See the docs with examples at https://noeloikeau.github.io/fpyga/."
   ]
  },
  {
   "cell_type": "markdown",
   "metadata": {},
   "source": [
    "## Installation\n",
    "`pip install fpyga`"
   ]
  },
  {
   "cell_type": "markdown",
   "metadata": {},
   "source": [
    "## Usage"
   ]
  },
  {
   "cell_type": "code",
   "execution_count": null,
   "metadata": {},
   "outputs": [],
   "source": [
    "import fpyga\n",
    "\n",
    "from fpyga import *"
   ]
  },
  {
   "cell_type": "markdown",
   "metadata": {},
   "source": [
    "## Preliminaries\n",
    "\n",
    "Before using this tutorial, you should:\n",
    "\n",
    "1. Install Quartus\n",
    "2. Have FPGAs connected\n",
    "3. Have a Quartus project open \"DE10\"\n",
    "4. Generate a \"MyPLL\" Phase-Lock-Loop megafunction from the Quartus GUI\n",
    "5. Similarly generate a \"DE10.cdf\" file in ..\\output_files folder using the Programming GUI\n",
    "6. Connect PIN_V11 to FPGA_CLK1_50 as input to the PLL using the Assignments GUI\n",
    "7. Ensure path variables point to the Quartus scripting folder to run command-line arguments\n",
    "\n",
    "Note: this page was previously titled `quartusfpga`, and included several utilities which have since been separated into the `sidis` package following a full re-write. `quartusfpga` is no longer maintained and has been removed."
   ]
  },
  {
   "cell_type": "markdown",
   "metadata": {},
   "source": [
    "## Project Class\n",
    "We will use the `Project` class to smoothe over the process of writing location assignments, compiling, programming, reading/writing to memory, and archiving in Quartus. All the methods here are derived from functions defined in the other pages, which may be used as stand-alones if the class functionality isn't required."
   ]
  },
  {
   "cell_type": "code",
   "execution_count": null,
   "metadata": {},
   "outputs": [],
   "source": [
    "P=Project(projectname='DE10',\n",
    "          projdir=r'C:\\Users\\Noeloikeau Charlot\\Desktop\\Research\\Quartus',\n",
    "          chip=DE10,\n",
    "          templatefile=r'C:\\Users\\Noeloikeau Charlot\\Desktop\\Research\\qdev\\Repressilator_Template.txt',\n",
    "         __N__=3,__T__=8,__D__=1)"
   ]
  },
  {
   "cell_type": "markdown",
   "metadata": {},
   "source": [
    "The `templatefile` will fill in the Verilog project automatically from a base text file where we implement a Ring Oscillator, as explained below. If you're happy with Verilog and just want to see how to interface with the FPGA, feel free to skip to the following sections."
   ]
  },
  {
   "cell_type": "markdown",
   "metadata": {},
   "source": [
    "## sidis Templates\n",
    "We use the `sidis` module for several utilities, including the `Template` class, which lets you write Python formatting functions inside text documents. This means you can easily replace and expand upon the native constructs of hardware programming language like Verilog. As an example, this notebook deals with a ring of three cyclic inverters implemented on two DE10 Nano Cyclone V Intel FPGAs."
   ]
  },
  {
   "cell_type": "code",
   "execution_count": null,
   "metadata": {},
   "outputs": [
    {
     "name": "stdout",
     "output_type": "stream",
     "text": [
      "localparam N=__N__; //number of nodes\n",
      "localparam T=__T__; //number of measurements\n",
      "localparam D=__D__; //number of inverter pairs between nodes\n",
      "wire [N-1:0] node; //ring of cyclic inverters\n",
      "wire [N-1:0] init; //initial state of ring\n",
      "wire node_delayed_{0}_{1} /*synthesis keep*/; ZIP __N__, lambda i:i, lambda i:(i-1)%__N__\n",
      "DelayLine #(D) DL{0}_{1} (node[{0}], node_delayed_{0}_{1}); ZIP __N__, lambda i:(i-1)%__N__, lambda i:i\n",
      "assign node[{0}]= enable ? ~node_delayed_{1}_{0} : init[{0}]; ZIP __N__, lambda i:i, lambda i:(i-1)%__N__\n"
     ]
    }
   ],
   "source": [
    "s=sidis.Template('Repressilator_Template.txt')\n",
    "print(s.temp[11:19]) #These are the relevant lines for this example"
   ]
  },
  {
   "cell_type": "markdown",
   "metadata": {},
   "source": [
    "The special characters `__N__`, `__T__` etc. will be replaced by the string interpreter in the `FillForm` function. The special flag `ZIP` is a custom function defined in this Python module which formats the text according to lambda functions mapped over an iterable. This produces Verilog assignments automatically at compilation, like so:"
   ]
  },
  {
   "cell_type": "code",
   "execution_count": null,
   "metadata": {},
   "outputs": [
    {
     "name": "stdout",
     "output_type": "stream",
     "text": [
      "localparam N=3; //number of nodes\n",
      "localparam T=8; //number of measurements\n",
      "localparam D=1; //number of inverter pairs between nodes\n",
      "wire [N-1:0] node; //ring of cyclic inverters\n",
      "wire [N-1:0] init; //initial state of ring\n",
      "wire node_delayed_0_2 /*synthesis keep*/; \n",
      "wire node_delayed_1_0 /*synthesis keep*/; \n",
      "wire node_delayed_2_1 /*synthesis keep*/; \n",
      "DelayLine #(D) DL2_0 (node[2], node_delayed_2_0); \n",
      "DelayLine #(D) DL0_1 (node[0], node_delayed_0_1); \n",
      "DelayLine #(D) DL1_2 (node[1], node_delayed_1_2); \n",
      "assign node[0]= enable ? ~node_delayed_2_0 : init[0]; \n",
      "assign node[1]= enable ? ~node_delayed_0_1 : init[1]; \n",
      "assign node[2]= enable ? ~node_delayed_1_2 : init[2]; \n"
     ]
    }
   ],
   "source": [
    "s.fill(__N__=3,__T__=8,__D__=1)\n",
    "print(s.plate)"
   ]
  },
  {
   "cell_type": "markdown",
   "metadata": {},
   "source": [
    "These methods however are much more general; see the `sidis` page https://noeloikeau.github.io/sidis/ ."
   ]
  },
  {
   "cell_type": "markdown",
   "metadata": {},
   "source": [
    "## Devices and Assignments\n",
    "> Now we want to assign some locations using functions from the `Scripting` page to locations defined on the `Devices` page. \n",
    "\n",
    "We have 3 nodes in our ring, let's see if we can place them at LAB (10,10) on the `DE10`:"
   ]
  },
  {
   "cell_type": "code",
   "execution_count": null,
   "metadata": {},
   "outputs": [
    {
     "name": "stdout",
     "output_type": "stream",
     "text": [
      "LAB LABCELL\n"
     ]
    }
   ],
   "source": [
    "print(DE10(x=10,y=10),DE10(x=10,y=10,n=0))"
   ]
  },
  {
   "cell_type": "markdown",
   "metadata": {},
   "source": [
    "Looks like we're good. We use `Project.set_loc` to set location assignments to the quartus project settings (.qsf) file:"
   ]
  },
  {
   "cell_type": "code",
   "execution_count": null,
   "metadata": {},
   "outputs": [],
   "source": [
    "[P.set_loc(x=10,y=10,n=3*i,name=f'node[{i}]',style='a') for i in range(3)]"
   ]
  },
  {
   "cell_type": "markdown",
   "metadata": {},
   "source": [
    "Which writes \n",
    "\n",
    "`set_location_assignment LABCELL_X10_Y10_N0 -to \"node[0]\"`\n",
    "\n",
    "`set_location_assignment LABCELL_X10_Y10_N3 -to \"node[1]\"`\n",
    "\n",
    "`set_location_assignment LABCELL_X10_Y10_N6 -to \"node[2]\"`\n",
    "\n",
    "to a new file `qsf_source.qsf`, and adds the argument `source qsf_source.qsf` to our project `DE10.qsf`, thereby assigning these locations to the `node` logic elements comprising our ring of inverters to the `(10,10)` LAB on the FPGA at the LABCELL coordinates `N=0,3,6`. \n",
    "\n",
    "We now compile, program, and archive our project with `Project.Bootup`:"
   ]
  },
  {
   "cell_type": "code",
   "execution_count": null,
   "metadata": {},
   "outputs": [],
   "source": [
    "P.compile()\n",
    "P.program_all()\n",
    "P.archive()"
   ]
  },
  {
   "cell_type": "markdown",
   "metadata": {},
   "source": [
    "The compilation was successful, the `DE10`'s were each programmed with the same `DE10.sof` file, and a new file `DE10-2020-09-12.qar` was generated, which contains everything needed for someone to boot up our entire project using the Quartus GUI under Tools->Archive. "
   ]
  },
  {
   "cell_type": "markdown",
   "metadata": {},
   "source": [
    "## Memory Interface\n",
    "Let's take a look at our FPGAs and how to interface with their memory instances, as explained in the `Memory` page:"
   ]
  },
  {
   "cell_type": "code",
   "execution_count": null,
   "metadata": {},
   "outputs": [
    {
     "data": {
      "text/plain": [
       "[['DE-SoC [USB-1]',\n",
       "  '@2: 5CSEBA6(.|ES)/5CSEMA6/.. (0x02D020DD)',\n",
       "  [['0', '1', '1', 'RW', 'ROM/RAM', 'BIT'],\n",
       "   ['1', '8', '3', 'RW', 'ROM/RAM', 'READ'],\n",
       "   ['2', '2', '3', 'RW', 'ROM/RAM', 'WRIT']]],\n",
       " ['DE-SoC [USB-2]',\n",
       "  '@2: 5CSEBA6(.|ES)/5CSEMA6/.. (0x02D020DD)',\n",
       "  [['0', '1', '1', 'RW', 'ROM/RAM', 'BIT'],\n",
       "   ['1', '8', '3', 'RW', 'ROM/RAM', 'READ'],\n",
       "   ['2', '2', '3', 'RW', 'ROM/RAM', 'WRIT']]]]"
      ]
     },
     "execution_count": null,
     "metadata": {},
     "output_type": "execute_result"
    }
   ],
   "source": [
    "P.get_insts()"
   ]
  },
  {
   "cell_type": "markdown",
   "metadata": {},
   "source": [
    "The two FPGA's are connected on ports `USB-1` and `USB-2`. Their names are given by the second string, `5CSEBA6...`. In fact, there are also `SoC`s (system-on-a-chip) connected to these ports, which we could see using `GetPorts`. But we automatically filtered the `SOC`s out, as for our purposes we want to program the FPGAs directly. \n",
    "\n",
    "The last arguments in the FPGA lists `[0,1,1,RW,ROM/RAM,BIT]...` are memory instances. They are formatted like:\n",
    "\n",
    "0. Instance index, used in read/write calls\n",
    "1. Number of words at that index\n",
    "2. Number of bits per word\n",
    "3. Read/write functionality\n",
    "4. Type of memory (here ROM/RAM)\n",
    "5. Custom name string defined in Verilog module\n",
    "\n",
    "Here, instance `0` is an `enable` bit which we use to begin the dynamics of the 3-bit ring. When the enable bit is low, the ring is set to its initial state, specified by instance `2`, which can hold two initial configurations of the 3 node network. When the enable bit is high, the ring begins to invert itself, and the state of each node state is recorded in instance `1` at approximately `1ns` intervals a total of `8` times.\n",
    "\n",
    "Since we haven't flipped the enable bit or set any initial conditions, the ring should be all 0s on both FPGAs. We check this using Project.ReadAllData:"
   ]
  },
  {
   "cell_type": "code",
   "execution_count": null,
   "metadata": {},
   "outputs": [
    {
     "data": {
      "text/plain": [
       "array([[[0, 0, 0],\n",
       "        [0, 0, 0],\n",
       "        [0, 0, 0],\n",
       "        [0, 0, 0],\n",
       "        [0, 0, 0],\n",
       "        [0, 0, 0],\n",
       "        [0, 0, 0],\n",
       "        [0, 0, 0]],\n",
       "\n",
       "       [[0, 0, 0],\n",
       "        [0, 0, 0],\n",
       "        [0, 0, 0],\n",
       "        [0, 0, 0],\n",
       "        [0, 0, 0],\n",
       "        [0, 0, 0],\n",
       "        [0, 0, 0],\n",
       "        [0, 0, 0]]], dtype=uint8)"
      ]
     },
     "execution_count": null,
     "metadata": {},
     "output_type": "execute_result"
    }
   ],
   "source": [
    "P.read_all(inst=1)"
   ]
  },
  {
   "cell_type": "markdown",
   "metadata": {},
   "source": [
    "The first `8x3` column is the state of the 3-node network over 8ns on FPGA `DE-SoC [USB-1]`, the second on `DE-SoC [USB-2]`. This shows us that both of our FPGA rings are held fixed at zero. Now, let's set the initial conditions to `001` on instance `2` using `Project.WriteAllData`:"
   ]
  },
  {
   "cell_type": "code",
   "execution_count": null,
   "metadata": {},
   "outputs": [],
   "source": [
    "P.write_all(inst=2,data=[[0,0,1],[0,0,1]]) #We have two initializations, but only the 0th is used"
   ]
  },
  {
   "cell_type": "markdown",
   "metadata": {},
   "source": [
    "Now let's make sure it wrote correctly:"
   ]
  },
  {
   "cell_type": "code",
   "execution_count": null,
   "metadata": {},
   "outputs": [
    {
     "data": {
      "text/plain": [
       "array([[[0, 0, 1],\n",
       "        [0, 0, 1]],\n",
       "\n",
       "       [[0, 0, 1],\n",
       "        [0, 0, 1]]], dtype=uint8)"
      ]
     },
     "execution_count": null,
     "metadata": {},
     "output_type": "execute_result"
    }
   ],
   "source": [
    "P.read_all(inst=2)"
   ]
  },
  {
   "cell_type": "markdown",
   "metadata": {},
   "source": [
    "Good. Now, we flip the enable bit to 1:"
   ]
  },
  {
   "cell_type": "code",
   "execution_count": null,
   "metadata": {},
   "outputs": [],
   "source": [
    "P.write_all(inst=0,data=[[1]])"
   ]
  },
  {
   "cell_type": "markdown",
   "metadata": {},
   "source": [
    "and read the state of each network over time:"
   ]
  },
  {
   "cell_type": "code",
   "execution_count": null,
   "metadata": {},
   "outputs": [
    {
     "data": {
      "text/plain": [
       "array([[[0, 0, 0],\n",
       "        [1, 1, 0],\n",
       "        [1, 0, 1],\n",
       "        [0, 0, 1],\n",
       "        [1, 1, 0],\n",
       "        [1, 0, 1],\n",
       "        [0, 1, 1],\n",
       "        [1, 0, 1]],\n",
       "\n",
       "       [[0, 0, 0],\n",
       "        [0, 1, 0],\n",
       "        [1, 0, 0],\n",
       "        [0, 0, 1],\n",
       "        [0, 1, 0],\n",
       "        [1, 0, 0],\n",
       "        [0, 0, 1],\n",
       "        [0, 0, 0]]], dtype=uint8)"
      ]
     },
     "execution_count": null,
     "metadata": {},
     "output_type": "execute_result"
    }
   ],
   "source": [
    "P.read_all(inst=1)"
   ]
  },
  {
   "cell_type": "markdown",
   "metadata": {},
   "source": [
    "So we managed to create and measure dynamical systems from multiple FPGAs at nanosecond intervals all from Python! This concludes the tutorial, but there are many other possibilities using this package, check out some of the other pages."
   ]
  },
  {
   "cell_type": "code",
   "execution_count": null,
   "metadata": {},
   "outputs": [],
   "source": [
    "#hide\n",
    "#import os\n",
    "#os.getcwd()\n",
    "#Push()"
   ]
  },
  {
   "cell_type": "code",
   "execution_count": null,
   "metadata": {},
   "outputs": [],
   "source": []
  },
  {
   "cell_type": "code",
   "execution_count": null,
   "metadata": {},
   "outputs": [],
   "source": []
  }
 ],
 "metadata": {
  "kernelspec": {
   "display_name": "Python 3",
   "language": "python",
   "name": "python3"
  }
 },
 "nbformat": 4,
 "nbformat_minor": 4
}
