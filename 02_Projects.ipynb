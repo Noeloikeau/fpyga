{
 "cells": [
  {
   "cell_type": "code",
   "execution_count": null,
   "id": "hollow-montreal",
   "metadata": {},
   "outputs": [],
   "source": [
    "# default_exp projects"
   ]
  },
  {
   "cell_type": "markdown",
   "id": "integrated-concert",
   "metadata": {},
   "source": [
    "# Projects\n",
    "> Packages the other modules into a `Project` class which simplifies interfacing with any connected FPGAs and scripting, reading/writing to memory, controlling locations, etc."
   ]
  },
  {
   "cell_type": "code",
   "execution_count": null,
   "id": "finnish-wilderness",
   "metadata": {},
   "outputs": [],
   "source": [
    "#hide\n",
    "from nbdev import *\n",
    "from nbdev.imports import *\n",
    "from nbdev.export import *\n",
    "from nbdev.sync import *\n",
    "from nbdev.showdoc import *"
   ]
  },
  {
   "cell_type": "code",
   "execution_count": null,
   "id": "processed-municipality",
   "metadata": {},
   "outputs": [
    {
     "name": "stdout",
     "output_type": "stream",
     "text": [
      "The autoreload extension is already loaded. To reload it, use:\n",
      "  %reload_ext autoreload\n"
     ]
    }
   ],
   "source": [
    "#hide\n",
    "%load_ext autoreload\n",
    "%autoreload 2"
   ]
  },
  {
   "cell_type": "code",
   "execution_count": null,
   "id": "pleased-pixel",
   "metadata": {},
   "outputs": [
    {
     "name": "stderr",
     "output_type": "stream",
     "text": [
      "C:\\Anaconda3\\lib\\site-packages\\numpy\\_distributor_init.py:32: UserWarning: loaded more than 1 DLL from .libs:\n",
      "C:\\Anaconda3\\lib\\site-packages\\numpy\\.libs\\libopenblas.NOIJJG62EMASZI6NYURL6JBKM4EVBGM7.gfortran-win_amd64.dll\n",
      "C:\\Anaconda3\\lib\\site-packages\\numpy\\.libs\\libopenblas.PYQHXLVVQ7VESDPUVUADXEVJOBGHJPAY.gfortran-win_amd64.dll\n",
      "  stacklevel=1)\n"
     ]
    }
   ],
   "source": [
    "#export\n",
    "import warnings\n",
    "with warnings.catch_warnings(): #ignore warnings\n",
    "    warnings.simplefilter(\"ignore\")\n",
    "    import sidis\n",
    "    import mif\n",
    "    import quartustcl\n",
    "    import numpy as np\n",
    "    import os\n",
    "    from fpyga.devices import *\n",
    "    from fpyga.scripting import *\n",
    "    from typing import Optional, Tuple, Dict, Callable, Union"
   ]
  },
  {
   "cell_type": "code",
   "execution_count": null,
   "id": "attached-benchmark",
   "metadata": {},
   "outputs": [],
   "source": [
    "#export\n",
    "class Project:\n",
    "    def __init__(self,\n",
    "                projname,\n",
    "                projdir='./',\n",
    "                chip=DE10,\n",
    "                templatefile=None,\n",
    "                **kwargs\n",
    "                ):\n",
    "        self.__dict__.update(locals())\n",
    "        self.cwd=os.getcwd()\n",
    "        os.chdir(self.projdir)\n",
    "        self.q=quartustcl.QuartusTcl()\n",
    "        try:\n",
    "            self.get_fpgas()\n",
    "        except:\n",
    "            print('No FPGAs found. Try connecting them and run <your project>.get_fpgas().')\n",
    "            pass\n",
    "        if templatefile:\n",
    "            self.template=sidis.Template(templatefile,**kwargs)\n",
    "            \n",
    "    def get_fpgas(self,parse=True):\n",
    "        \"Use `GetPorts` and `FindInsts` to return all FPGA and memory info.\"\n",
    "        device_dict=get_fpgas(q=self.q,parse=parse)\n",
    "        self.hw=list(device_dict.keys())\n",
    "        self.dev=list(device_dict.values())\n",
    "    \n",
    "    def get_insts(self,N_levels=2):\n",
    "        if self.hw is None:\n",
    "            self.get_fpgas()\n",
    "        return get_insts(q=self.q,hwnames=self.hw,devnames=self.dev,N_levels=N_levels)\n",
    "        \n",
    "    def begin(self,hw=None,dev=None):\n",
    "        if hw is None:\n",
    "            hw=self.hw[0]\n",
    "        if dev is None:\n",
    "            dev=self.dev[0]\n",
    "        begin_mem(q=self.q,hw=hw,dev=dev)\n",
    "        \n",
    "    def end(self):\n",
    "        end_mem(q=self.q)\n",
    "        \n",
    "    def read(self,\n",
    "             inst=0,\n",
    "             hw=None,\n",
    "             dev=None,\n",
    "             begin=True,\n",
    "             end=True,\n",
    "             fname=None,\n",
    "             delete_mif=True):\n",
    "        if hw is None:\n",
    "            hw=self.hw[0]\n",
    "        if dev is None:\n",
    "            dev=self.dev[0]\n",
    "        data = np.array(read(q=self.q,inst=inst,hw=hw,dev=dev,begin=begin,end=end,\n",
    "                               fname=fname,delete_mif=delete_mif))\n",
    "        if data.shape[1]==1:\n",
    "            data=data[0]\n",
    "        return data\n",
    "        \n",
    "    def write(self,\n",
    "              inst=0,\n",
    "              data=1,\n",
    "              hw=None,\n",
    "              dev=None,\n",
    "              bits=None,\n",
    "              begin=True,\n",
    "              end=True,\n",
    "              fname=None,\n",
    "              delete_mif=True):\n",
    "        if hw is None:\n",
    "            hw=self.hw[0]\n",
    "        if dev is None:\n",
    "            dev=self.dev[0]\n",
    "        write(q=self.q,inst=inst,data=data,bits=bits,\n",
    "              hw=hw,dev=dev,begin=begin,end=end,fname=fname,delete_mif=delete_mif)\n",
    "\n",
    "    def read_write(self,\n",
    "                  args=[[0,'w',1,1],[0,'r']],\n",
    "                  hw=None,\n",
    "                  dev=None,\n",
    "                  reps=1,\n",
    "                  begin=True,\n",
    "                  end=True):\n",
    "        \n",
    "        if hw is None:\n",
    "            hw=self.hw[0]\n",
    "        if dev is None:\n",
    "            dev=self.dev[0]\n",
    "        return read_write(q=self.q,args=args,hw=hw,dev=dev,reps=reps,begin=begin,end=end)\n",
    "\n",
    "    def read_all(self,\n",
    "             inst=0,\n",
    "             begin=True,\n",
    "             end=True,\n",
    "             fname=None,\n",
    "             delete_mif=True):\n",
    "        data=[]\n",
    "        for hw,dev in zip(self.hw,self.dev):\n",
    "            data+=[self.read(inst=inst,hw=hw,dev=dev,begin=begin,end=end,fname=fname,delete_mif=delete_mif)]\n",
    "        data=np.array(data)\n",
    "        if data.shape[0]==1:\n",
    "            data=data[0]\n",
    "        return data\n",
    "        \n",
    "    def write_all(self,\n",
    "              inst=0,\n",
    "              data=1,\n",
    "              bits=None,\n",
    "              begin=True,\n",
    "              end=True,\n",
    "              fname=None,\n",
    "              delete_mif=True):\n",
    "        for hw,dev in zip(self.hw,self.dev):\n",
    "            write(q=self.q,inst=inst,data=data,bits=bits,\n",
    "                  hw=hw,dev=dev,begin=begin,end=end,fname=fname,delete_mif=delete_mif)\n",
    "        \n",
    "    def read_write_all(self,\n",
    "                 args=[[0,'w',1,1],[0,'r']],\n",
    "                 reps=1,\n",
    "                 begin=True,\n",
    "                 end=True):\n",
    "        return read_write_all(q=self.q,args=args,fpgas=list(zip(self.hw,self.dev)),reps=reps,begin=begin,end=end)\n",
    "            \n",
    "\n",
    "    def program(self,fpga=0,path='output_files',fname=None):\n",
    "        \"`Program` a single FPGA with index `fpga`.\"\n",
    "        if self.hw is None:\n",
    "            self.get_fpgas()\n",
    "        filename=fname or self.projname+'.cdf'\n",
    "        filename=path+'\\\\'+filename\n",
    "        hdwname='\\\"'+str(self.hw[fpga])+'\\\"'\n",
    "        os.system(r'quartus_pgm -c {0} {1}'.format(hdwname,filename))\n",
    "\n",
    "    def program_all(self,path='output_files',fname=None):\n",
    "        \"`Program` all connected FPGAs.\"\n",
    "        if self.hw is None:\n",
    "            self.get_fpgas()\n",
    "        for i in range(len(self.hw)):\n",
    "            self.program(fpga=i,path='output_files',fname=None)\n",
    "\n",
    "    def archive(self,name=None):\n",
    "        \"`Archive` the current project.\"\n",
    "        name=name or self.projname+'-'+str(date.today())\n",
    "        archive_proj(self.projname,name)\n",
    "        \n",
    "    def compile(self):\n",
    "        compile_proj(self.projname)\n",
    "    \n",
    "    def annotate(self,routing=True,logic=True):\n",
    "        if self.qsf is None:\n",
    "            with open(self.projname+'.qsf','r') as f:\n",
    "                self.original_qsf=f.readlines()\n",
    "                \n",
    "        back_annotate(projectname=self.projname,routing=routing,logic=logic)\n",
    "    \n",
    "    def de_annotate(self):\n",
    "        with open(self.projname+'.qsf','r') as f:\n",
    "            f.writelines(self.original_qsf)\n",
    "    \n",
    "    def write_qsf(self,txt,style='w'):\n",
    "        write_qsf(txt=txt,style=style,projectname=self.projname)\n",
    "        \n",
    "    def set_loc(self,x,y,n,name=None,style='a'):\n",
    "        txt=self.chip.SLA(x=x,y=y,n=n,name=name)\n",
    "        self.write_qsf(txt=txt,style=style)\n",
    "        \n",
    "    def analyze_timing(self,\n",
    "           _from = '[get_clocks {MyClock}]',\n",
    "           _to = '[get_cells {MyCell}]',\n",
    "           detail='summary', #or 'full_path'\n",
    "           filename='timing.txt',\n",
    "           npaths = 1\n",
    "          ):\n",
    "        return timing_analyzer(projectname=self.projname,_from=_from,_to=_to,detail=detail,\n",
    "                        filename=filename,npaths=npaths)\n",
    "    \n",
    "    "
   ]
  },
  {
   "cell_type": "code",
   "execution_count": null,
   "id": "amazing-strike",
   "metadata": {},
   "outputs": [],
   "source": [
    "p=Project(projname='WCD',projdir=r'C:\\Users\\Noeloikeau Charlot\\Desktop\\Research\\WCD\\Quartus')"
   ]
  },
  {
   "cell_type": "code",
   "execution_count": null,
   "id": "wrong-canon",
   "metadata": {},
   "outputs": [
    {
     "data": {
      "text/plain": [
       "['DE-SoC [USB-1]', 'DE-SoC [USB-2]']"
      ]
     },
     "execution_count": null,
     "metadata": {},
     "output_type": "execute_result"
    }
   ],
   "source": [
    "p.hw"
   ]
  },
  {
   "cell_type": "code",
   "execution_count": null,
   "id": "norman-programmer",
   "metadata": {},
   "outputs": [
    {
     "data": {
      "text/plain": [
       "['@2: 5CSEBA6(.|ES)/5CSEMA6/.. (0x02D020DD)',\n",
       " '@2: 5CSEBA6(.|ES)/5CSEMA6/.. (0x02D020DD)']"
      ]
     },
     "execution_count": null,
     "metadata": {},
     "output_type": "execute_result"
    }
   ],
   "source": [
    "p.dev"
   ]
  },
  {
   "cell_type": "code",
   "execution_count": null,
   "id": "simplified-residence",
   "metadata": {},
   "outputs": [],
   "source": [
    "p.program_all()"
   ]
  },
  {
   "cell_type": "code",
   "execution_count": null,
   "id": "surprised-fossil",
   "metadata": {},
   "outputs": [
    {
     "data": {
      "text/plain": [
       "{'DE-SoC [USB-1]': [['0', '1', '1', 'RW', 'ROM/RAM', 'BIT'],\n",
       "  ['1', '1', '3', 'RW', 'ROM/RAM', 'MULT'],\n",
       "  ['2', '1', '2', 'RW', 'ROM/RAM', 'MULT'],\n",
       "  ['3', '512', '1300', 'RW', 'ROM/RAM', 'READ'],\n",
       "  ['4', '512', '1300', 'RW', 'ROM/RAM', 'READ'],\n",
       "  ['5', '512', '1300', 'RW', 'ROM/RAM', 'READ'],\n",
       "  ['6', '512', '1300', 'RW', 'ROM/RAM', 'READ']],\n",
       " 'DE-SoC [USB-2]': [['0', '1', '1', 'RW', 'ROM/RAM', 'BIT'],\n",
       "  ['1', '1', '3', 'RW', 'ROM/RAM', 'MULT'],\n",
       "  ['2', '1', '2', 'RW', 'ROM/RAM', 'MULT'],\n",
       "  ['3', '512', '1300', 'RW', 'ROM/RAM', 'READ'],\n",
       "  ['4', '512', '1300', 'RW', 'ROM/RAM', 'READ'],\n",
       "  ['5', '512', '1300', 'RW', 'ROM/RAM', 'READ'],\n",
       "  ['6', '512', '1300', 'RW', 'ROM/RAM', 'READ']]}"
      ]
     },
     "execution_count": null,
     "metadata": {},
     "output_type": "execute_result"
    }
   ],
   "source": [
    "p.get_insts()"
   ]
  },
  {
   "cell_type": "code",
   "execution_count": null,
   "id": "serial-chosen",
   "metadata": {},
   "outputs": [
    {
     "data": {
      "text/plain": [
       "array([0])"
      ]
     },
     "execution_count": null,
     "metadata": {},
     "output_type": "execute_result"
    }
   ],
   "source": [
    "p.read(inst=0)"
   ]
  },
  {
   "cell_type": "code",
   "execution_count": null,
   "id": "initial-myanmar",
   "metadata": {},
   "outputs": [
    {
     "data": {
      "text/plain": [
       "array([[1],\n",
       "       [1]])"
      ]
     },
     "execution_count": null,
     "metadata": {},
     "output_type": "execute_result"
    }
   ],
   "source": [
    "p.read_all(inst=0)"
   ]
  },
  {
   "cell_type": "code",
   "execution_count": null,
   "id": "spiritual-canyon",
   "metadata": {},
   "outputs": [
    {
     "data": {
      "text/plain": [
       "array([1])"
      ]
     },
     "execution_count": null,
     "metadata": {},
     "output_type": "execute_result"
    }
   ],
   "source": [
    "p.read_write([(0,'w',1),(0,'r')])"
   ]
  },
  {
   "cell_type": "code",
   "execution_count": null,
   "id": "bright-denver",
   "metadata": {},
   "outputs": [
    {
     "data": {
      "text/plain": [
       "array([[1],\n",
       "       [1]])"
      ]
     },
     "execution_count": null,
     "metadata": {},
     "output_type": "execute_result"
    }
   ],
   "source": [
    "p.read_write_all([(0,'w',1),(0,'r')])"
   ]
  },
  {
   "cell_type": "code",
   "execution_count": null,
   "id": "charitable-debate",
   "metadata": {},
   "outputs": [
    {
     "data": {
      "text/plain": [
       "array([0, 1, 1])"
      ]
     },
     "execution_count": null,
     "metadata": {},
     "output_type": "execute_result"
    }
   ],
   "source": [
    "p.read_write([(1,'w',3,3),(1,'r')])"
   ]
  },
  {
   "cell_type": "code",
   "execution_count": null,
   "id": "active-wilson",
   "metadata": {},
   "outputs": [
    {
     "data": {
      "text/plain": [
       "array([[0, 1, 1],\n",
       "       [0, 1, 1]])"
      ]
     },
     "execution_count": null,
     "metadata": {},
     "output_type": "execute_result"
    }
   ],
   "source": [
    "p.read_write_all([(1,'w',3,3),(1,'r')])"
   ]
  },
  {
   "cell_type": "code",
   "execution_count": null,
   "id": "liquid-decimal",
   "metadata": {},
   "outputs": [
    {
     "data": {
      "text/plain": [
       "(512, 1300)"
      ]
     },
     "execution_count": null,
     "metadata": {},
     "output_type": "execute_result"
    }
   ],
   "source": [
    "p.read(inst=6).shape"
   ]
  },
  {
   "cell_type": "code",
   "execution_count": null,
   "id": "progressive-document",
   "metadata": {},
   "outputs": [
    {
     "name": "stdout",
     "output_type": "stream",
     "text": [
      "Converted 00_Devices.ipynb.\n",
      "Converted 01_Scripting.ipynb.\n",
      "Converted 02_Projects.ipynb.\n",
      "Converted index.ipynb.\n"
     ]
    }
   ],
   "source": [
    "#hide\n",
    "#notebook2script()"
   ]
  },
  {
   "cell_type": "code",
   "execution_count": null,
   "id": "comprehensive-natural",
   "metadata": {},
   "outputs": [],
   "source": [
    "#hide\n",
    "#sidis.push()"
   ]
  },
  {
   "cell_type": "code",
   "execution_count": null,
   "id": "temporal-chancellor",
   "metadata": {},
   "outputs": [],
   "source": []
  }
 ],
 "metadata": {
  "kernelspec": {
   "display_name": "Python 3",
   "language": "python",
   "name": "python3"
  }
 },
 "nbformat": 4,
 "nbformat_minor": 5
}
