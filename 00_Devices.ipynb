{
 "cells": [
  {
   "cell_type": "code",
   "execution_count": null,
   "metadata": {},
   "outputs": [],
   "source": [
    "# default_exp devices"
   ]
  },
  {
   "cell_type": "markdown",
   "metadata": {},
   "source": [
    "# Devices\n",
    "> FPGA Devices as dictionaries of logic types keyed by grid location. Currently only DE10 Nano Cyclone V support."
   ]
  },
  {
   "cell_type": "code",
   "execution_count": null,
   "metadata": {},
   "outputs": [],
   "source": [
    "#hide\n",
    "from nbdev import *\n",
    "from nbdev.imports import *\n",
    "from nbdev.export import *\n",
    "from nbdev.sync import *\n",
    "from nbdev.showdoc import *"
   ]
  },
  {
   "cell_type": "code",
   "execution_count": null,
   "metadata": {},
   "outputs": [],
   "source": [
    "#hide\n",
    "%load_ext autoreload\n",
    "%autoreload 2"
   ]
  },
  {
   "cell_type": "code",
   "execution_count": null,
   "metadata": {},
   "outputs": [
    {
     "name": "stderr",
     "output_type": "stream",
     "text": [
      "C:\\Anaconda3\\lib\\site-packages\\numpy\\_distributor_init.py:32: UserWarning: loaded more than 1 DLL from .libs:\n",
      "C:\\Anaconda3\\lib\\site-packages\\numpy\\.libs\\libopenblas.NOIJJG62EMASZI6NYURL6JBKM4EVBGM7.gfortran-win_amd64.dll\n",
      "C:\\Anaconda3\\lib\\site-packages\\numpy\\.libs\\libopenblas.PYQHXLVVQ7VESDPUVUADXEVJOBGHJPAY.gfortran-win_amd64.dll\n",
      "  stacklevel=1)\n"
     ]
    }
   ],
   "source": [
    "#export\n",
    "import numpy as np\n",
    "from typing import Optional, Tuple, Dict, Callable, Union"
   ]
  },
  {
   "cell_type": "markdown",
   "metadata": {},
   "source": [
    "## DE10 Nano\n",
    "Support for DE10 Nano Cyclone V SoC chip number `5CSEBA6U23I7`."
   ]
  },
  {
   "cell_type": "code",
   "execution_count": null,
   "metadata": {},
   "outputs": [],
   "source": [
    "#export\n",
    "class DE10Class:\n",
    "    '''\n",
    "    DE10 Nano Chip 5CSEBA6U23I7 as a callable with `x`, `y`, `n` coordinates. \n",
    "    With two args `x` and `y`, give logic type. With three, give cell type.\n",
    "    Also has attributes listing `MLAB`,`LAB`,`DSP`,`M10K` x-coordinates.\n",
    "    '''\n",
    "    def __init__(self):\n",
    "        \"Chip 5CSEBA6U23I7 as a dictionary indexed by location, valued by LAB logic type.\"\n",
    "        chipdict = {}\n",
    "        X,Y,N=(89,81,60)\n",
    "        #at x=0, all y is blank\n",
    "        Xs=np.arange(1,88+1)\n",
    "        Ys=np.arange(1,80+1)\n",
    "        \n",
    "        #Locations of different logic X-values\n",
    "        MLAB_X=[3,6,8,15,21,25,28,34,39,47,52,59,65,72,78,82,84,87]\n",
    "        M10K_X=[5,14,26,38,41,44,49,58,69,76,89]\n",
    "        DSP_X=[20,32,54,86]\n",
    "        \n",
    "        #Default to LABs\n",
    "        for i in Xs:\n",
    "            for j in Ys:\n",
    "                chipdict[(i,j)]='LAB'\n",
    "        #Then replace with other logic types\n",
    "        for i in MLAB_X:\n",
    "            for j in Ys:\n",
    "                chipdict[(i,j)]='MLAB'\n",
    "        for i in M10K_X:\n",
    "            for j in Ys:\n",
    "                chipdict[(i,j)]='M10K'\n",
    "        for i in DSP_X:\n",
    "            for j in Ys:\n",
    "                chipdict[(i,j)]='DSP'\n",
    "        \n",
    "        #from x=1 to x=9, y=15 to y=31 is blank\n",
    "        for i in range(1,9+1):\n",
    "            for j in range(15,31+1):\n",
    "                del chipdict[(i,j)]\n",
    "        #at x=20, 32, 54, 86, y=32 and y=1 is blank\n",
    "        for i in [20,32,54,86]:\n",
    "            del chipdict[(i,32)]\n",
    "            del chipdict[(i,1)]\n",
    "        #at x=44, all y is blank\n",
    "        for j in Ys:\n",
    "            del chipdict[(44,j)]\n",
    "        #at x=45 to x=50, y=37 is blank\n",
    "        for i in range(45,50+1):\n",
    "            del chipdict[(i,37)]\n",
    "        #at x=51 onwards, y>=37 is blank \n",
    "        for i in range(51,X):\n",
    "            for j in range(37,Y):\n",
    "                del chipdict[(i,j)]\n",
    "        \n",
    "        #Set attrs for easy access\n",
    "        self.dict=chipdict\n",
    "        self.LAB=sorted(list(set([x for (x,y) in chipdict.keys() if chipdict[x,y]=='LAB'])))\n",
    "        self.MLAB=MLAB_X\n",
    "        self.M10K=M10K_X\n",
    "        self.DSP=DSP_X\n",
    "    \n",
    "    def SLA(self,x,y,n,name=None):\n",
    "        if name is None:\n",
    "            return f'set_location_assignment {self.__call__(x,y,n)}_X{x}_Y{y}_N{n} -to \"{{0}}\"\\n'\n",
    "        else:\n",
    "            return f'set_location_assignment {self.__call__(x,y,n)}_X{x}_Y{y}_N{n} -to \"{name}\"\\n'\n",
    "    \n",
    "    def __call__(self,\n",
    "                 x : int,\n",
    "                 y : int,\n",
    "                 n : Optional[int] = None):\n",
    "        \"DE10 callable function. With two args, give LAB type. With three, give LABCELL type.\"\n",
    "        T=self.dict[x,y]\n",
    "        if n is None or T=='M10K' or T=='DSP': #return type of logic if no third arg, or ram/dsp\n",
    "            return T\n",
    "        else: #return flipflop based on position in labcell, or type of labcell\n",
    "            z=n%6 #mod the number of elements in the cell\n",
    "            if z==0 or z==3:\n",
    "                return T+'CELL'\n",
    "            else:\n",
    "                return 'FF' \n",
    "    \n",
    "    def __repr__(self):\n",
    "        return 'DE10 Nano 5CSEBA6U23I7 from X=1 to X=88, Y=1 to Y=80\\n'\\\n",
    "            +'MLAB X-coords: {0}\\n'.format(self.MLAB)+'M10K X-coords: {0}\\n'.format(self.M10K)\\\n",
    "            +'DSP X-coords: {0}\\n'.format(self.DSP)+'LAB X-coords: else'"
   ]
  },
  {
   "cell_type": "code",
   "execution_count": null,
   "metadata": {},
   "outputs": [],
   "source": [
    "#export\n",
    "DE10=DE10Class()"
   ]
  },
  {
   "cell_type": "code",
   "execution_count": null,
   "metadata": {},
   "outputs": [
    {
     "data": {
      "text/plain": [
       "DE10 Nano 5CSEBA6U23I7 from X=1 to X=88, Y=1 to Y=80\n",
       "MLAB X-coords: [3, 6, 8, 15, 21, 25, 28, 34, 39, 47, 52, 59, 65, 72, 78, 82, 84, 87]\n",
       "M10K X-coords: [5, 14, 26, 38, 41, 44, 49, 58, 69, 76, 89]\n",
       "DSP X-coords: [20, 32, 54, 86]\n",
       "LAB X-coords: else"
      ]
     },
     "execution_count": null,
     "metadata": {},
     "output_type": "execute_result"
    }
   ],
   "source": [
    "DE10"
   ]
  },
  {
   "cell_type": "code",
   "execution_count": null,
   "metadata": {},
   "outputs": [
    {
     "data": {
      "text/markdown": [
       "<h2 id=\"DE10Class\" class=\"doc_header\"><code>class</code> <code>DE10Class</code><a href=\"\" class=\"source_link\" style=\"float:right\">[source]</a></h2>\n",
       "\n",
       "> <code>DE10Class</code>()\n",
       "\n",
       "DE10 Nano Chip 5CSEBA6U23I7 as a callable with `x`, `y`, `n` coordinates. \n",
       "With two args `x` and `y`, give logic type. With three, give cell type.\n",
       "Also has attributes listing `MLAB`,`LAB`,`DSP`,`M10K` x-coordinates."
      ],
      "text/plain": [
       "<IPython.core.display.Markdown object>"
      ]
     },
     "metadata": {},
     "output_type": "display_data"
    }
   ],
   "source": [
    "show_doc(DE10Class)"
   ]
  },
  {
   "cell_type": "markdown",
   "metadata": {},
   "source": [
    "The `DE10Nano` is indexed by `x,y` coordinates on the FPGA grid, and returns the type of logic block at that location as follows:"
   ]
  },
  {
   "cell_type": "code",
   "execution_count": null,
   "metadata": {},
   "outputs": [
    {
     "data": {
      "text/plain": [
       "'LAB'"
      ]
     },
     "execution_count": null,
     "metadata": {},
     "output_type": "execute_result"
    }
   ],
   "source": [
    "DE10(10,10)"
   ]
  },
  {
   "cell_type": "markdown",
   "metadata": {},
   "source": [
    "Each `x,y` coordinate has a third dimension `n` which returns e.g a `LABCELL` or `FF` for combinational logic and flipflops, respectively, and can be called as:"
   ]
  },
  {
   "cell_type": "code",
   "execution_count": null,
   "metadata": {},
   "outputs": [
    {
     "data": {
      "text/plain": [
       "'LABCELL'"
      ]
     },
     "execution_count": null,
     "metadata": {},
     "output_type": "execute_result"
    }
   ],
   "source": [
    "DE10(10,10,0)"
   ]
  },
  {
   "cell_type": "markdown",
   "metadata": {},
   "source": [
    "The different types of logic are stored as attributes of x-locations:"
   ]
  },
  {
   "cell_type": "code",
   "execution_count": null,
   "metadata": {},
   "outputs": [
    {
     "data": {
      "text/plain": [
       "[3, 6, 8, 15, 21, 25, 28, 34, 39, 47, 52, 59, 65, 72, 78, 82, 84, 87]"
      ]
     },
     "execution_count": null,
     "metadata": {},
     "output_type": "execute_result"
    }
   ],
   "source": [
    "DE10.MLAB"
   ]
  },
  {
   "cell_type": "code",
   "execution_count": null,
   "metadata": {},
   "outputs": [
    {
     "data": {
      "text/plain": [
       "[5, 14, 26, 38, 41, 44, 49, 58, 69, 76, 89]"
      ]
     },
     "execution_count": null,
     "metadata": {},
     "output_type": "execute_result"
    }
   ],
   "source": [
    "DE10.M10K"
   ]
  },
  {
   "cell_type": "code",
   "execution_count": null,
   "metadata": {},
   "outputs": [
    {
     "data": {
      "text/plain": [
       "[20, 32, 54, 86]"
      ]
     },
     "execution_count": null,
     "metadata": {},
     "output_type": "execute_result"
    }
   ],
   "source": [
    "DE10.DSP"
   ]
  },
  {
   "cell_type": "markdown",
   "metadata": {},
   "source": [
    "Finally, locations can be easily assigned with the `SLA` method, which accepts 3 coordinates and an optional third argument giving the name of the assigned logic, like so:"
   ]
  },
  {
   "cell_type": "code",
   "execution_count": null,
   "metadata": {},
   "outputs": [
    {
     "data": {
      "text/plain": [
       "'set_location_assignment FF_X1_Y1_N1 -to \"{0}\"\\n'"
      ]
     },
     "execution_count": null,
     "metadata": {},
     "output_type": "execute_result"
    }
   ],
   "source": [
    "DE10.SLA(1,1,1)"
   ]
  },
  {
   "cell_type": "code",
   "execution_count": null,
   "metadata": {},
   "outputs": [
    {
     "data": {
      "text/plain": [
       "'set_location_assignment FF_X1_Y1_N1 -to \"mylogic\"\\n'"
      ]
     },
     "execution_count": null,
     "metadata": {},
     "output_type": "execute_result"
    }
   ],
   "source": [
    "DE10.SLA(1,1,1,'mylogic')"
   ]
  },
  {
   "cell_type": "markdown",
   "metadata": {},
   "source": [
    "Support is required for other chips. If you can, please contribute with a similar class structure to make this library more user friendly!"
   ]
  },
  {
   "cell_type": "code",
   "execution_count": null,
   "metadata": {},
   "outputs": [
    {
     "name": "stdout",
     "output_type": "stream",
     "text": [
      "Converted 00_Devices.ipynb.\n",
      "Converted 01_Scripting.ipynb.\n",
      "Converted 02_Projects.ipynb.\n",
      "Converted index.ipynb.\n"
     ]
    }
   ],
   "source": [
    "#hide\n",
    "#notebook2script()"
   ]
  },
  {
   "cell_type": "code",
   "execution_count": null,
   "metadata": {},
   "outputs": [],
   "source": []
  }
 ],
 "metadata": {
  "kernelspec": {
   "display_name": "Python 3",
   "language": "python",
   "name": "python3"
  }
 },
 "nbformat": 4,
 "nbformat_minor": 4
}
